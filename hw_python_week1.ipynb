{
  "nbformat": 4,
  "nbformat_minor": 0,
  "metadata": {
    "colab": {
      "name": " hw_python_week1.ipynb ",
      "provenance": [],
      "authorship_tag": "ABX9TyMEBZO8PIpBqRlqJfa3VBEK",
      "include_colab_link": true
    },
    "kernelspec": {
      "name": "python3",
      "display_name": "Python 3"
    },
    "language_info": {
      "name": "python"
    }
  },
  "cells": [
    {
      "cell_type": "markdown",
      "metadata": {
        "id": "view-in-github",
        "colab_type": "text"
      },
      "source": [
        "<a href=\"https://colab.research.google.com/github/karmaggyatso/CUNY_SPS/blob/main/hw_python_week1.ipynb\" target=\"_parent\"><img src=\"https://colab.research.google.com/assets/colab-badge.svg\" alt=\"Open In Colab\"/></a>"
      ]
    },
    {
      "cell_type": "code",
      "execution_count": null,
      "metadata": {
        "colab": {
          "base_uri": "https://localhost:8080/"
        },
        "id": "vsL5KUwoOciR",
        "outputId": "e83326e0-46e4-4670-c01c-cdea09492fad"
      },
      "outputs": [
        {
          "output_type": "stream",
          "name": "stdout",
          "text": [
            "hello world\n"
          ]
        }
      ],
      "source": [
        "print(\"hello world\")"
      ]
    },
    {
      "cell_type": "code",
      "source": [
        "# Q1\n",
        "\n",
        "userInput = int(input(\"enter a number\"))\n",
        "\n",
        "try:\n",
        "  if (userInput % 2 == 0):\n",
        "    oddEven(userInput);\n",
        "  elif (userInput % 2 != 0): \n",
        "    oddEven(userInput)\n",
        "  else:\n",
        "    print(\"incorrect input try again\")\n",
        "except:\n",
        "  print(\"an exception occured\")\n",
        "\n",
        "def oddEven(userInput):\n",
        "    output = userInput;\n",
        "    for i in range(10): \n",
        "      print(output);\n",
        "      output += 2;\n",
        "\n",
        "\n",
        "\n"
      ],
      "metadata": {
        "colab": {
          "base_uri": "https://localhost:8080/"
        },
        "id": "C84N-GfYO8Gl",
        "outputId": "a10e4f4d-6652-4e0d-d4f3-5407ddb4dd5c"
      },
      "execution_count": null,
      "outputs": [
        {
          "output_type": "stream",
          "name": "stdout",
          "text": [
            "enter a number5\n",
            "5\n",
            "7\n",
            "9\n",
            "11\n",
            "13\n",
            "15\n",
            "17\n",
            "19\n",
            "21\n",
            "23\n"
          ]
        }
      ]
    },
    {
      "cell_type": "code",
      "source": [
        ""
      ],
      "metadata": {
        "id": "aPfCoDNnW5KZ"
      },
      "execution_count": null,
      "outputs": []
    },
    {
      "cell_type": "code",
      "source": [
        ""
      ],
      "metadata": {
        "colab": {
          "base_uri": "https://localhost:8080/"
        },
        "id": "TXpiSO4aXmvT",
        "outputId": "0956f789-3dc3-4045-887e-ecc978666b65"
      },
      "execution_count": null,
      "outputs": [
        {
          "output_type": "stream",
          "name": "stdout",
          "text": [
            "[NbConvertApp] Converting notebook /content/Untitled.ipynb to html\n",
            "[NbConvertApp] Writing 271690 bytes to /content/Untitled.html\n"
          ]
        },
        {
          "output_type": "execute_result",
          "data": {
            "text/plain": [
              ""
            ]
          },
          "metadata": {},
          "execution_count": 50
        }
      ]
    },
    {
      "cell_type": "code",
      "source": [
        "# Q2\n",
        "import matplotlib.pyplot as plt\n",
        "\n",
        "x_values = [-8, -7, -6, -5, -4, -3, -2, -1, 1, 2, 3, 4, 5, 6, 7, 8]\n",
        "y_values = []\n",
        "for x in x_values:\n",
        "                 # Calculate the value of the quadratic function\n",
        "                 y = x**2 + 2*x + 1\n",
        "                 y_values.append(y)\n",
        "\n",
        "plt.plot(x_values, y_values)\n",
        "plt.show()\n",
        "\n",
        "# the function is not linear because the x**2 graph is parabola. "
      ],
      "metadata": {
        "colab": {
          "base_uri": "https://localhost:8080/",
          "height": 265
        },
        "id": "GjrAHLqodivM",
        "outputId": "a03381d2-fafc-46e8-c6a5-45444a8726c8"
      },
      "execution_count": null,
      "outputs": [
        {
          "output_type": "display_data",
          "data": {
            "text/plain": [
              "<Figure size 432x288 with 1 Axes>"
            ],
            "image/png": "[encoded data removed]"
          },
          "metadata": {
            "needs_background": "light"
          }
        }
      ]
    },
    {
      "cell_type": "code",
      "source": [
        "#Q3\n",
        "import csv\n",
        "from collections import Counter\n",
        "import os\n",
        "\n",
        "path = \"\"\n",
        "\n",
        "def read_data():\n",
        "  numbers = []\n",
        "  with open('mytext.csv') as f:\n",
        "      for line in f:\n",
        "          numbers.append(float(line))\n",
        "  return numbers\n",
        "\n",
        "\n",
        "def calculate_mean(numbers):\n",
        "  total_sum = sum(numbers)\n",
        "  lengthOfArray = len(numbers)\n",
        "                  # Calculate the mean\n",
        "  mean = total_sum/lengthOfArray\n",
        "  return mean\n",
        "\n",
        "def find_differences(numbers):\n",
        "  # Find the mean\n",
        "  mean = calculate_mean(numbers)\n",
        "  # Find the differences from the mean\n",
        "  diff = []\n",
        "  for num in numbers:\n",
        "    diff.append(num-mean)\n",
        "  return diff\n",
        "\n",
        "\n",
        "def calculate_median(numbers):\n",
        "  N = len(numbers)\n",
        "  numbers.sort()\n",
        "        # Find the median\n",
        "  if N % 2 == 0:\n",
        "      # if N is even\n",
        "      m1 = N/2\n",
        "      m2 = (N/2) + 1\n",
        "      # Convert to integer, match position\n",
        "      m1 = int(m1) - 1\n",
        "      m2 = int(m2) - 1\n",
        "      median = (numbers[m1] + numbers[m2])/2\n",
        "  else:\n",
        "    m = (N+1)/2\n",
        "    # Convert to integer, match position\n",
        "    m = int(m) - 1\n",
        "    median = numbers[m]\n",
        "  return median\n",
        "\n",
        "def calculate_mode(numbers):\n",
        "  c = Counter(numbers)\n",
        "  numbers_freq = c.most_common()\n",
        "  max_count = numbers_freq[0][1]\n",
        "  modes = []\n",
        "  for num in numbers_freq:\n",
        "      if num[1] == max_count:\n",
        "          modes.append(num[0])\n",
        "  return modes # need to return in loop\n",
        "\n",
        "\n",
        "def calculate_variance(numbers):\n",
        "       # Find the list of differences\n",
        "  diff = find_differences(numbers)\n",
        "       # Find the squared differences\n",
        "  squared_diff = []\n",
        "  for d in diff:\n",
        "    squared_diff.append(d**2)\n",
        "       # Find the variance\n",
        "  sum_squared_diff = sum(squared_diff)\n",
        "  variance = sum_squared_diff/len(numbers) \n",
        "  return variance\n",
        "\n",
        "def calculate_std(numbers):\n",
        "  variance = calculate_variance(numbers)\n",
        "  std = variance**0.5\n",
        "  return std\n",
        "\n",
        "\n",
        "\n",
        "\n",
        "numbers = read_data()\n",
        "\n",
        "\n",
        "print(\"the mean is \", calculate_mean(numbers))\n",
        "print(\"the media is \", calculate_median(numbers))\n",
        "print(\"the mode is \",calculate_mode(numbers))\n",
        "print(\"the variance is \", calculate_variance(numbers))\n",
        "print(\"standard deviation is \", calculate_std(numbers))"
      ],
      "metadata": {
        "colab": {
          "base_uri": "https://localhost:8080/",
          "height": 373
        },
        "id": "6e4GBh_onVZ7",
        "outputId": "2734ffa0-6f80-4664-e10b-55cc0e49ca6e"
      },
      "execution_count": null,
      "outputs": [
        {
          "output_type": "error",
          "ename": "FileNotFoundError",
          "evalue": "ignored",
          "traceback": [
            "\u001b[0;31m---------------------------------------------------------------------------\u001b[0m",
            "\u001b[0;31mFileNotFoundError\u001b[0m                         Traceback (most recent call last)",
            "\u001b[0;32m<ipython-input-49-106d302e76cd>\u001b[0m in \u001b[0;36m<module>\u001b[0;34m()\u001b[0m\n\u001b[1;32m     80\u001b[0m \u001b[0;34m\u001b[0m\u001b[0m\n\u001b[1;32m     81\u001b[0m \u001b[0;34m\u001b[0m\u001b[0m\n\u001b[0;32m---> 82\u001b[0;31m \u001b[0mnumbers\u001b[0m \u001b[0;34m=\u001b[0m \u001b[0mread_data\u001b[0m\u001b[0;34m(\u001b[0m\u001b[0;34m)\u001b[0m\u001b[0;34m\u001b[0m\u001b[0;34m\u001b[0m\u001b[0m\n\u001b[0m\u001b[1;32m     83\u001b[0m \u001b[0;34m\u001b[0m\u001b[0m\n\u001b[1;32m     84\u001b[0m \u001b[0;34m\u001b[0m\u001b[0m\n",
            "\u001b[0;32m<ipython-input-49-106d302e76cd>\u001b[0m in \u001b[0;36mread_data\u001b[0;34m()\u001b[0m\n\u001b[1;32m      7\u001b[0m \u001b[0;32mdef\u001b[0m \u001b[0mread_data\u001b[0m\u001b[0;34m(\u001b[0m\u001b[0;34m)\u001b[0m\u001b[0;34m:\u001b[0m\u001b[0;34m\u001b[0m\u001b[0;34m\u001b[0m\u001b[0m\n\u001b[1;32m      8\u001b[0m   \u001b[0mnumbers\u001b[0m \u001b[0;34m=\u001b[0m \u001b[0;34m[\u001b[0m\u001b[0;34m]\u001b[0m\u001b[0;34m\u001b[0m\u001b[0;34m\u001b[0m\u001b[0m\n\u001b[0;32m----> 9\u001b[0;31m   \u001b[0;32mwith\u001b[0m \u001b[0mopen\u001b[0m\u001b[0;34m(\u001b[0m\u001b[0;34m'mytext.csv'\u001b[0m\u001b[0;34m)\u001b[0m \u001b[0;32mas\u001b[0m \u001b[0mf\u001b[0m\u001b[0;34m:\u001b[0m\u001b[0;34m\u001b[0m\u001b[0;34m\u001b[0m\u001b[0m\n\u001b[0m\u001b[1;32m     10\u001b[0m       \u001b[0;32mfor\u001b[0m \u001b[0mline\u001b[0m \u001b[0;32min\u001b[0m \u001b[0mf\u001b[0m\u001b[0;34m:\u001b[0m\u001b[0;34m\u001b[0m\u001b[0;34m\u001b[0m\u001b[0m\n\u001b[1;32m     11\u001b[0m           \u001b[0mnumbers\u001b[0m\u001b[0;34m.\u001b[0m\u001b[0mappend\u001b[0m\u001b[0;34m(\u001b[0m\u001b[0mfloat\u001b[0m\u001b[0;34m(\u001b[0m\u001b[0mline\u001b[0m\u001b[0;34m)\u001b[0m\u001b[0;34m)\u001b[0m\u001b[0;34m\u001b[0m\u001b[0;34m\u001b[0m\u001b[0m\n",
            "\u001b[0;31mFileNotFoundError\u001b[0m: [Errno 2] No such file or directory: 'mytext.csv'"
          ]
        }
      ]
    },
    {
      "cell_type": "code",
      "source": [
        "# Q4\n",
        "from sympy import Poly, Symbol, solve_poly_inequality, SympifyError \n",
        "\n",
        "def isolve(ineq_obj):\n",
        "  x = Symbol('x')\n",
        "  lhs = ineq_obj.lhs\n",
        "  rel = ineq_obj.rel_op\n",
        "\n",
        "  if lhs.is_polynomial():\n",
        "    p = Poly(lhs, x)\n",
        "    return solve_poly_inequality(p, rel)\n",
        "  elif lhs.is_rational_function():\n",
        "    p1, p2 = lhs.as_numer_denom()\n",
        "    num = Poly(p1)\n",
        "    denom = Poly(p2)\n",
        "    return solve_rational_inequalities([[((num, denom), rel)]])\n",
        "  else:\n",
        "    return solve_univariate_inequality(ineq_obj , x, relational=False)\n",
        "\n",
        "\n",
        "# program is still not completed. "
      ],
      "metadata": {
        "id": "64AzjdJ4xuyu",
        "colab": {
          "base_uri": "https://localhost:8080/",
          "height": 245
        },
        "outputId": "34d74819-5095-486a-903b-610101cc124f"
      },
      "execution_count": 16,
      "outputs": [
        {
          "output_type": "error",
          "ename": "NameError",
          "evalue": "ignored",
          "traceback": [
            "\u001b[0;31m---------------------------------------------------------------------------\u001b[0m",
            "\u001b[0;31mNameError\u001b[0m                                 Traceback (most recent call last)",
            "\u001b[0;32m<ipython-input-16-87503d5a18d6>\u001b[0m in \u001b[0;36m<module>\u001b[0;34m()\u001b[0m\n\u001b[1;32m      7\u001b[0m   \u001b[0mrel\u001b[0m \u001b[0;34m=\u001b[0m \u001b[0mineq_obj\u001b[0m\u001b[0;34m.\u001b[0m\u001b[0mrel_op\u001b[0m\u001b[0;34m\u001b[0m\u001b[0;34m\u001b[0m\u001b[0m\n\u001b[1;32m      8\u001b[0m \u001b[0;34m\u001b[0m\u001b[0m\n\u001b[0;32m----> 9\u001b[0;31m \u001b[0;32mif\u001b[0m \u001b[0mlhs\u001b[0m\u001b[0;34m.\u001b[0m\u001b[0mis_polynomial\u001b[0m\u001b[0;34m(\u001b[0m\u001b[0;34m)\u001b[0m\u001b[0;34m:\u001b[0m\u001b[0;34m\u001b[0m\u001b[0;34m\u001b[0m\u001b[0m\n\u001b[0m\u001b[1;32m     10\u001b[0m   \u001b[0mp\u001b[0m \u001b[0;34m=\u001b[0m \u001b[0mPoly\u001b[0m\u001b[0;34m(\u001b[0m\u001b[0mlhs\u001b[0m\u001b[0;34m,\u001b[0m \u001b[0mx\u001b[0m\u001b[0;34m)\u001b[0m\u001b[0;34m\u001b[0m\u001b[0;34m\u001b[0m\u001b[0m\n\u001b[1;32m     11\u001b[0m   \u001b[0mprint\u001b[0m \u001b[0;34m(\u001b[0m\u001b[0msolve_poly_inequality\u001b[0m\u001b[0;34m(\u001b[0m\u001b[0mp\u001b[0m\u001b[0;34m,\u001b[0m \u001b[0mrel\u001b[0m\u001b[0;34m)\u001b[0m\u001b[0;34m)\u001b[0m\u001b[0;34m\u001b[0m\u001b[0;34m\u001b[0m\u001b[0m\n",
            "\u001b[0;31mNameError\u001b[0m: name 'lhs' is not defined"
          ]
        }
      ]
    },
    {
      "cell_type": "code",
      "source": [
        "#Q5\n",
        "import random\n",
        "def roll(num_trials):\n",
        "    rolls = []\n",
        "    for t in range(num_trials):\n",
        "        rolls.append(random.randint(1, 6))\n",
        "    return sum(rolls)/num_trials\n",
        "if __name__ == '__main__':\n",
        "    expected_value = 3.5\n",
        "    print('Expected value: {0}'.format(expected_value))\n",
        "    for trial in [100, 1000, 10000, 100000, 500000]:\n",
        "        avg = roll(trial)\n",
        "        print('Trials: {0} Trial average {1}'.format(trial, avg))"
      ],
      "metadata": {
        "id": "wShQ49gRxutg",
        "colab": {
          "base_uri": "https://localhost:8080/"
        },
        "outputId": "20b61b4a-3521-4630-8677-5eef8f75dd23"
      },
      "execution_count": 13,
      "outputs": [
        {
          "output_type": "stream",
          "name": "stdout",
          "text": [
            "Expected value: 3.5\n",
            "Trials: 100 Trial average 3.48\n",
            "Trials: 1000 Trial average 3.63\n",
            "Trials: 10000 Trial average 3.4929\n",
            "Trials: 100000 Trial average 3.50279\n",
            "Trials: 500000 Trial average 3.502774\n"
          ]
        }
      ]
    },
    {
      "cell_type": "code",
      "source": [
        "#Q6\n",
        "from sympy import Derivative, Symbol, sympify, solve\n",
        "import matplotlib.pyplot as plt\n",
        "def gradiant_descent(x0, fx, x):\n",
        "    if not solve(f1x):\n",
        "  format(fx))\n",
        "    return None\n",
        "\n",
        "\n",
        "# sorry professer. couldn't resolve it and took alot of time. \n"
      ],
      "metadata": {
        "id": "JoNonBm1yQSl"
      },
      "execution_count": null,
      "outputs": []
    }
  ]
}