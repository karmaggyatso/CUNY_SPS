{
 "cells": [
  {
   "cell_type": "code",
   "execution_count": 3,
   "source": [
    "# Q1\n",
    "\n",
    "userInput = int(input(\"enter a number\"))\n",
    "\n",
    "try:\n",
    "  if (userInput % 2 == 0):\n",
    "    oddEven(userInput);\n",
    "  elif (userInput % 2 != 0): \n",
    "    oddEven(userInput)\n",
    "  else:\n",
    "    print(\"incorrect input try again\")\n",
    "except:\n",
    "  print(\"an exception occured\")\n",
    "\n",
    "def oddEven(userInput):\n",
    "    output = userInput;\n",
    "    for i in range(10): \n",
    "      print(output);\n",
    "      output += 2;\n",
    "\n",
    "\n",
    "\n"
   ],
   "outputs": [
    {
     "output_type": "stream",
     "name": "stdout",
     "text": [
      "enter a number 5\n"
     ]
    },
    {
     "output_type": "stream",
     "name": "stdout",
     "text": [
      "5\n",
      "7\n",
      "9\n",
      "11\n",
      "13\n",
      "15\n",
      "17\n",
      "19\n",
      "21\n",
      "23\n"
     ]
    }
   ],
   "metadata": {}
  },
  {
   "cell_type": "code",
   "execution_count": 4,
   "source": [
    "# Q2\n",
    "import matplotlib.pyplot as plt\n",
    "\n",
    "x_values = [-8, -7, -6, -5, -4, -3, -2, -1, 1, 2, 3, 4, 5, 6, 7, 8]\n",
    "y_values = []\n",
    "for x in x_values:\n",
    "                 # Calculate the value of the quadratic function\n",
    "                 y = x**2 + 2*x + 1\n",
    "                 y_values.append(y)\n",
    "\n",
    "plt.plot(x_values, y_values)\n",
    "plt.show()\n",
    "\n",
    "# the function is not linear because the x**2 graph is parabola. "
   ],
   "outputs": [
    {
     "output_type": "display_data",
     "data": {
      "image/png": "[encoded data removed]",
      "text/plain": [
       "<Figure size 432x288 with 1 Axes>"
      ]
     },
     "metadata": {
      "needs_background": "light"
     }
    }
   ],
   "metadata": {}
  },
  {
   "cell_type": "code",
   "execution_count": 5,
   "source": [
    "import csv\n",
    "from collections import Counter\n",
    "import os\n",
    "\n",
    "path = \"\"\n",
    "\n",
    "def read_data():\n",
    "  numbers = []\n",
    "  with open('mytext.csv') as f:\n",
    "      for line in f:\n",
    "          numbers.append(float(line))\n",
    "  return numbers\n",
    "\n",
    "\n",
    "def calculate_mean(numbers):\n",
    "  total_sum = sum(numbers)\n",
    "  lengthOfArray = len(numbers)\n",
    "                  # Calculate the mean\n",
    "  mean = total_sum/lengthOfArray\n",
    "  return mean\n",
    "\n",
    "def find_differences(numbers):\n",
    "  # Find the mean\n",
    "  mean = calculate_mean(numbers)\n",
    "  # Find the differences from the mean\n",
    "  diff = []\n",
    "  for num in numbers:\n",
    "    diff.append(num-mean)\n",
    "  return diff\n",
    "\n",
    "\n",
    "def calculate_median(numbers):\n",
    "  N = len(numbers)\n",
    "  numbers.sort()\n",
    "        # Find the median\n",
    "  if N % 2 == 0:\n",
    "      # if N is even\n",
    "      m1 = N/2\n",
    "      m2 = (N/2) + 1\n",
    "      # Convert to integer, match position\n",
    "      m1 = int(m1) - 1\n",
    "      m2 = int(m2) - 1\n",
    "      median = (numbers[m1] + numbers[m2])/2\n",
    "  else:\n",
    "    m = (N+1)/2\n",
    "    # Convert to integer, match position\n",
    "    m = int(m) - 1\n",
    "    median = numbers[m]\n",
    "  return median\n",
    "\n",
    "def calculate_mode(numbers):\n",
    "  c = Counter(numbers)\n",
    "  numbers_freq = c.most_common()\n",
    "  max_count = numbers_freq[0][1]\n",
    "  modes = []\n",
    "  for num in numbers_freq:\n",
    "      if num[1] == max_count:\n",
    "          modes.append(num[0])\n",
    "  return modes # need to return in loop\n",
    "\n",
    "\n",
    "def calculate_variance(numbers):\n",
    "       # Find the list of differences\n",
    "  diff = find_differences(numbers)\n",
    "       # Find the squared differences\n",
    "  squared_diff = []\n",
    "  for d in diff:\n",
    "    squared_diff.append(d**2)\n",
    "       # Find the variance\n",
    "  sum_squared_diff = sum(squared_diff)\n",
    "  variance = sum_squared_diff/len(numbers) \n",
    "  return variance\n",
    "\n",
    "def calculate_std(numbers):\n",
    "  variance = calculate_variance(numbers)\n",
    "  std = variance**0.5\n",
    "  return std\n",
    "\n",
    "\n",
    "\n",
    "\n",
    "numbers = read_data()\n",
    "\n",
    "\n",
    "print(\"the mean is \", calculate_mean(numbers))\n",
    "print(\"the media is \", calculate_median(numbers))\n",
    "print(\"the mode is \",calculate_mode(numbers))\n",
    "print(\"the variance is \", calculate_variance(numbers))\n",
    "print(\"standard deviation is \", calculate_std(numbers))"
   ],
   "outputs": [
    {
     "output_type": "error",
     "ename": "FileNotFoundError",
     "evalue": "[Errno 2] No such file or directory: 'mytext.csv'",
     "traceback": [
      "\u001b[0;31m---------------------------------------------------------------------------\u001b[0m",
      "\u001b[0;31mFileNotFoundError\u001b[0m                         Traceback (most recent call last)",
      "Input \u001b[0;32mIn [5]\u001b[0m, in \u001b[0;36m<cell line: 82>\u001b[0;34m()\u001b[0m\n\u001b[1;32m     76\u001b[0m   std \u001b[38;5;241m=\u001b[39m variance\u001b[38;5;241m*\u001b[39m\u001b[38;5;241m*\u001b[39m\u001b[38;5;241m0.5\u001b[39m\n\u001b[1;32m     77\u001b[0m   \u001b[38;5;28;01mreturn\u001b[39;00m std\n\u001b[0;32m---> 82\u001b[0m numbers \u001b[38;5;241m=\u001b[39m \u001b[43mread_data\u001b[49m\u001b[43m(\u001b[49m\u001b[43m)\u001b[49m\n\u001b[1;32m     85\u001b[0m \u001b[38;5;28mprint\u001b[39m(\u001b[38;5;124m\"\u001b[39m\u001b[38;5;124mthe mean is \u001b[39m\u001b[38;5;124m\"\u001b[39m, calculate_mean(numbers))\n\u001b[1;32m     86\u001b[0m \u001b[38;5;28mprint\u001b[39m(\u001b[38;5;124m\"\u001b[39m\u001b[38;5;124mthe media is \u001b[39m\u001b[38;5;124m\"\u001b[39m, calculate_median(numbers))\n",
      "Input \u001b[0;32mIn [5]\u001b[0m, in \u001b[0;36mread_data\u001b[0;34m()\u001b[0m\n\u001b[1;32m      7\u001b[0m \u001b[38;5;28;01mdef\u001b[39;00m \u001b[38;5;21mread_data\u001b[39m():\n\u001b[1;32m      8\u001b[0m   numbers \u001b[38;5;241m=\u001b[39m []\n\u001b[0;32m----> 9\u001b[0m   \u001b[38;5;28;01mwith\u001b[39;00m \u001b[38;5;28;43mopen\u001b[39;49m\u001b[43m(\u001b[49m\u001b[38;5;124;43m'\u001b[39;49m\u001b[38;5;124;43mmytext.csv\u001b[39;49m\u001b[38;5;124;43m'\u001b[39;49m\u001b[43m)\u001b[49m \u001b[38;5;28;01mas\u001b[39;00m f:\n\u001b[1;32m     10\u001b[0m       \u001b[38;5;28;01mfor\u001b[39;00m line \u001b[38;5;129;01min\u001b[39;00m f:\n\u001b[1;32m     11\u001b[0m           numbers\u001b[38;5;241m.\u001b[39mappend(\u001b[38;5;28mfloat\u001b[39m(line))\n",
      "\u001b[0;31mFileNotFoundError\u001b[0m: [Errno 2] No such file or directory: 'mytext.csv'"
     ]
    }
   ],
   "metadata": {}
  },
  {
   "cell_type": "code",
   "execution_count": 6,
   "source": [],
   "outputs": [
    {
     "output_type": "stream",
     "name": "stderr",
     "text": [
      "UsageError: Cell magic `%%shell` not found.\n"
     ]
    }
   ],
   "metadata": {}
  }
 ],
 "metadata": {
  "kernelspec": {
   "display_name": "Python 3 (ipykernel)",
   "language": "python",
   "name": "python3"
  },
  "language_info": {
   "codemirror_mode": {
    "name": "ipython",
    "version": 3
   },
   "file_extension": ".py",
   "mimetype": "text/x-python",
   "name": "python",
   "nbconvert_exporter": "python",
   "pygments_lexer": "ipython3",
   "version": "3.9.12"
  }
 },
 "nbformat": 4,
 "nbformat_minor": 5
}