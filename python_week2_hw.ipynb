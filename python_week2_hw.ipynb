{
 "cells": [
  {
   "cell_type": "code",
   "execution_count": null,
   "id": "a213881c",
   "metadata": {},
   "outputs": [],
   "source": [
    "# Q1"
   ]
  },
  {
   "cell_type": "code",
   "execution_count": 47,
   "id": "db0df204",
   "metadata": {},
   "outputs": [
    {
     "name": "stdout",
     "output_type": "stream",
     "text": [
      "A: \n"
     ]
    }
   ],
   "source": [
    "from functools import reduce\n",
    "\n",
    "A = ([[4, -4],\n",
    "      [-7, 3]])\n",
    "\n",
    "print(\"A: \")"
   ]
  },
  {
   "cell_type": "code",
   "execution_count": 48,
   "id": "1bd6ae52",
   "metadata": {},
   "outputs": [
    {
     "name": "stdout",
     "output_type": "stream",
     "text": [
      "[4, -4]\n",
      "[-7, 3]\n"
     ]
    }
   ],
   "source": [
    "for i in A:\n",
    "  print(i)\n"
   ]
  },
  {
   "cell_type": "code",
   "execution_count": 49,
   "id": "6bd652a7",
   "metadata": {},
   "outputs": [
    {
     "name": "stdout",
     "output_type": "stream",
     "text": [
      "I:\n"
     ]
    }
   ],
   "source": [
    "I = ([[1, 0],\n",
    "      [0, 1]])\n",
    "\n",
    "print(\"I:\")"
   ]
  },
  {
   "cell_type": "code",
   "execution_count": 50,
   "id": "e4b4302b",
   "metadata": {},
   "outputs": [
    {
     "name": "stdout",
     "output_type": "stream",
     "text": [
      "[1, 0]\n",
      "[0, 1]\n"
     ]
    }
   ],
   "source": [
    "for m in I:\n",
    "  print(m)"
   ]
  },
  {
   "cell_type": "code",
   "execution_count": 51,
   "id": "5986c17c",
   "metadata": {},
   "outputs": [
    {
     "name": "stdout",
     "output_type": "stream",
     "text": [
      "\n",
      "AxI:\n"
     ]
    }
   ],
   "source": [
    "AxI = ([[0, 0],\n",
    "        [0, 0]])\n",
    "\n",
    "for i in range(len(A)):\n",
    "    for j in range(len(I[0])):\n",
    "        for k in range(len(I)):\n",
    "            AxI[i][j] += A[i][k] * I[k][j]\n",
    "\n",
    "print(\"\\nAxI:\")"
   ]
  },
  {
   "cell_type": "code",
   "execution_count": 52,
   "id": "92436062",
   "metadata": {},
   "outputs": [
    {
     "name": "stdout",
     "output_type": "stream",
     "text": [
      "[[4, -4], [-7, 3]]\n",
      "[[4, -4], [-7, 3]]\n"
     ]
    }
   ],
   "source": [
    "for m in AxI:\n",
    "    print(AxI)"
   ]
  },
  {
   "cell_type": "code",
   "execution_count": 53,
   "id": "fb727e2e",
   "metadata": {},
   "outputs": [
    {
     "name": "stdout",
     "output_type": "stream",
     "text": [
      "nFactor:\n"
     ]
    }
   ],
   "source": [
    "print(\"nFactor:\")"
   ]
  },
  {
   "cell_type": "code",
   "execution_count": 54,
   "id": "57d53336",
   "metadata": {},
   "outputs": [
    {
     "name": "stdout",
     "output_type": "stream",
     "text": [
      "\n",
      "= (4 - x)(3 - x) - (-7)(-4)=0\n"
     ]
    }
   ],
   "source": [
    "lamda = ([[0,0],\n",
    "        [0,0]])\n",
    "\n",
    "for i in range(len(AxI)):\n",
    "    for j in range(len(AxI)):\n",
    "     #factor[i][j] = AxI[i][j]\n",
    "     lamda[i][i] = (\"x\".format(AxI[i][i]))\n",
    "\n",
    "print('\\n= ({0} - {1})({2} - {3}) - ({4})({5})=0'.format(AxI[0][0], lamda[0][0], AxI[1][1], lamda[1][1], AxI[1][0], AxI[0][1]))"
   ]
  },
  {
   "cell_type": "code",
   "execution_count": 55,
   "id": "a9f7a8d8",
   "metadata": {},
   "outputs": [
    {
     "name": "stdout",
     "output_type": "stream",
     "text": [
      "\n",
      "= x^2-7x+12 - 28 = 0\n"
     ]
    }
   ],
   "source": [
    "count_id = 0 # number of id\n",
    "coeff = 0 # coefficient\n",
    "for i in range(len(lamda)):\n",
    "    for j in range(len(lamda)):\n",
    "            if (lamda[i][j] == \"x\"):\n",
    "                count_id = count_id + 1\n",
    "                coeff = (\"x^{0}\".format(count_id))\n",
    "               \n",
    "       \n",
    "print(\"\\n= {0}{1}{2}+{3} - {4} = 0\".format(coeff, -AxI[0][0]-AxI[1][1], lamda[1][1], (-AxI[0][0])*(-AxI[1][1]), (-AxI[1][0]) * (-AxI[0][1])))        "
   ]
  },
  {
   "cell_type": "code",
   "execution_count": 56,
   "id": "2642cda9",
   "metadata": {},
   "outputs": [
    {
     "name": "stdout",
     "output_type": "stream",
     "text": [
      "-9\n"
     ]
    }
   ],
   "source": [
    "factor1 = (-AxI[0][0] - AxI[1][1])\n",
    "\n",
    "determinant = (((-AxI[0][0])*(-AxI[1][1]))-((-AxI[1][0]) * (-AxI[0][1])))\n",
    "\n",
    "factor1 = determinant - factor1\n",
    "\n",
    "print(factor1)"
   ]
  },
  {
   "cell_type": "code",
   "execution_count": 57,
   "id": "2963867f",
   "metadata": {},
   "outputs": [
    {
     "name": "stdout",
     "output_type": "stream",
     "text": [
      "-16\n"
     ]
    }
   ],
   "source": [
    "print(determinant)"
   ]
  },
  {
   "cell_type": "code",
   "execution_count": 58,
   "id": "39604076",
   "metadata": {},
   "outputs": [
    {
     "name": "stdout",
     "output_type": "stream",
     "text": [
      "Eigen Values:\n"
     ]
    }
   ],
   "source": [
    "print(\"Eigen Values:\")"
   ]
  },
  {
   "cell_type": "code",
   "execution_count": 59,
   "id": "d868480d",
   "metadata": {
    "scrolled": true
   },
   "outputs": [
    {
     "name": "stdout",
     "output_type": "stream",
     "text": [
      "(x + (-9))(x + (-16))\n"
     ]
    }
   ],
   "source": [
    "print(\"(x + ({0}))(x + ({1}))\".format(factor1,determinant))"
   ]
  },
  {
   "cell_type": "code",
   "execution_count": 60,
   "id": "0af6359e",
   "metadata": {},
   "outputs": [
    {
     "name": "stdout",
     "output_type": "stream",
     "text": [
      "Eigen Vector\n"
     ]
    }
   ],
   "source": [
    "print(\"Eigen Vector\")"
   ]
  },
  {
   "cell_type": "code",
   "execution_count": 61,
   "id": "ede5c62b",
   "metadata": {},
   "outputs": [
    {
     "name": "stdout",
     "output_type": "stream",
     "text": [
      "13 , 12\n"
     ]
    }
   ],
   "source": [
    "eval1 = AxI[0][0] - (factor1)\n",
    "eval2 = AxI[1][1] - (factor1)\n",
    "\n",
    "print(eval1, \",\",eval2)"
   ]
  },
  {
   "cell_type": "code",
   "execution_count": 62,
   "id": "54f3c92e",
   "metadata": {},
   "outputs": [
    {
     "name": "stdout",
     "output_type": "stream",
     "text": [
      "Eigan vectors are: -0.3333333333333333 and -0.5833333333333334\n"
     ]
    }
   ],
   "source": [
    "eiganVector1 = AxI[0][1] / eval2\n",
    "\n",
    "eiganVector2 = AxI[1][0] / eval2\n",
    "\n",
    "print(\"Eigan vectors are: {0} and {1}\".format(eiganVector1, eiganVector2))\n"
   ]
  },
  {
   "cell_type": "code",
   "execution_count": null,
   "id": "5918b8ea",
   "metadata": {},
   "outputs": [],
   "source": [
    "# Q2"
   ]
  },
  {
   "cell_type": "code",
   "execution_count": 25,
   "id": "d1baf664",
   "metadata": {
    "scrolled": true
   },
   "outputs": [
    {
     "name": "stdout",
     "output_type": "stream",
     "text": [
      "Main array:\n",
      "[[1 0 0 3]\n",
      " [0 0 4 0]\n",
      " [0 0 0 0]]\n",
      "factor of a given array by Singular Value Decomposition are: \n",
      "U=\n",
      " [[0. 1. 0.]\n",
      " [1. 0. 0.]\n",
      " [0. 0. 1.]] \n",
      "s=\n",
      " [4.         3.16227766 0.        ] \n",
      "V=\n",
      " [[-0.          0.          1.          0.        ]\n",
      " [ 0.31622777  0.          0.          0.9486833 ]\n",
      " [ 0.         -1.          0.          0.        ]]\n"
     ]
    }
   ],
   "source": [
    "import numpy as np\n",
    "a = np.array([[1, 0, 0, 3], [0, 0, 4, 0], [0, 0, 0, 0]])\n",
    "print(\"Main array:\")\n",
    "print(a)\n",
    "U, s, V = np.linalg.svd(a, full_matrices=False) # When a is a 2D array, and full_matrices=False, then it is factorized as u @ np.diag(s) @ vh = (u * s) @ vh\n",
    "q, r = np.linalg.qr(a) #Factor the matrix a as qr, where q is orthonormal and r is upper-triangular.\n",
    "print(\"factor of a given array by Singular Value Decomposition are: \")\n",
    "print(\"U=\\n\", U, \"\\ns=\\n\", s, \"\\nV=\\n\", V)"
   ]
  },
  {
   "cell_type": "code",
   "execution_count": null,
   "id": "78e857fb",
   "metadata": {},
   "outputs": [],
   "source": [
    "# Q3"
   ]
  },
  {
   "cell_type": "code",
   "execution_count": 27,
   "id": "6c82abc4",
   "metadata": {},
   "outputs": [
    {
     "name": "stdout",
     "output_type": "stream",
     "text": [
      "Main array:\n",
      "[[1 1]\n",
      " [2 9]]\n",
      "Determinant of the array:\n",
      "7.000000000000001\n"
     ]
    }
   ],
   "source": [
    "import numpy as np\n",
    "a = np.array([[1,1],[2,9]])\n",
    "print(\"Main array:\")\n",
    "print(a)\n",
    "result =  np.linalg.det(a)\n",
    "print(\"Determinant of the array:\")\n",
    "print(result)"
   ]
  }
 ],
 "metadata": {
  "kernelspec": {
   "display_name": "Python 3 (ipykernel)",
   "language": "python",
   "name": "python3"
  },
  "language_info": {
   "codemirror_mode": {
    "name": "ipython",
    "version": 3
   },
   "file_extension": ".py",
   "mimetype": "text/x-python",
   "name": "python",
   "nbconvert_exporter": "python",
   "pygments_lexer": "ipython3",
   "version": "3.9.12"
  }
 },
 "nbformat": 4,
 "nbformat_minor": 5
}
