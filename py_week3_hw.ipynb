{
 "cells": [
  {
   "cell_type": "code",
   "execution_count": 124,
   "id": "fd396351",
   "metadata": {},
   "outputs": [],
   "source": [
    "from scipy.stats import norm\n",
    "from scipy.stats import binom as b\n",
    "from scipy.stats import t \n",
    "import matplotlib.pyplot as plt\n",
    "import numpy as np"
   ]
  },
  {
   "cell_type": "code",
   "execution_count": null,
   "id": "46a77459",
   "metadata": {},
   "outputs": [],
   "source": [
    "#q1\n",
    "#The weights of steers in a herd are distributed normally.  The variance is 40,000 and the mean steer weight is 1300 lbs.  Find the probability that the weight of a randomly selected steer is greater than 979 lbs. (Round your answer to 4 decimal places)"
   ]
  },
  {
   "cell_type": "code",
   "execution_count": 2,
   "id": "ad08388c",
   "metadata": {
    "scrolled": true
   },
   "outputs": [
    {
     "name": "stdout",
     "output_type": "stream",
     "text": [
      "0.9457530976640897\n",
      "0.05424690233591037\n"
     ]
    }
   ],
   "source": [
    "# X = weigh of a steer\n",
    "#P(X>979 | Mu = 1300, V = 40000)\n",
    "\n",
    "print(1-norm.cdf(979, loc=1300, scale=200)) #upper tail\n",
    "print(norm.cdf(979, loc=1300, scale=200)) #lower tail\n"
   ]
  },
  {
   "cell_type": "code",
   "execution_count": null,
   "id": "721800d7",
   "metadata": {},
   "outputs": [],
   "source": [
    "#q2. SVGA monitors manufactured by TSI Electronics have life spans that have a normal distribution with a variance of 1,960,000 and a mean life span of 11,000 hours. If a SVGA monitor is selected at random, find the probability that the life span of the monitor will be more than 8340 hours. (Round your answer to 4 decimal places)"
   ]
  },
  {
   "cell_type": "code",
   "execution_count": 22,
   "id": "cad30878",
   "metadata": {},
   "outputs": [
    {
     "data": {
      "text/plain": [
       "1400.0"
      ]
     },
     "execution_count": 22,
     "metadata": {},
     "output_type": "execute_result"
    }
   ],
   "source": [
    "m = 11000\n",
    "v = 1960000\n",
    "sd = np.sqrt(v)\n",
    "sd"
   ]
  },
  {
   "cell_type": "code",
   "execution_count": 28,
   "id": "88863231",
   "metadata": {},
   "outputs": [
    {
     "data": {
      "text/plain": [
       "0.9713"
      ]
     },
     "execution_count": 28,
     "metadata": {},
     "output_type": "execute_result"
    }
   ],
   "source": [
    "round(1-norm.cdf(8340, 11000, sd),4)"
   ]
  },
  {
   "cell_type": "code",
   "execution_count": null,
   "id": "d554f43e",
   "metadata": {},
   "outputs": [],
   "source": [
    "#Q3\n",
    "\n",
    "#Suppose the mean income of firms in the industry for a year is 80 million dollars with a standard deviation of 3 million dollars.  If incomes for the industry are distributed normally, what is the probability that a randomly selected firm will earn between 83 and 85 million dollars? (Round your answer to 4 decimal places)"
   ]
  },
  {
   "cell_type": "code",
   "execution_count": 7,
   "id": "1587cebc",
   "metadata": {},
   "outputs": [
    {
     "data": {
      "text/plain": [
       "0.1109"
      ]
     },
     "execution_count": 7,
     "metadata": {},
     "output_type": "execute_result"
    }
   ],
   "source": [
    "round((norm.cdf(85, loc=80, scale=3) - norm.cdf(83, loc=80, scale=3)), 4)"
   ]
  },
  {
   "cell_type": "code",
   "execution_count": null,
   "id": "750af853",
   "metadata": {},
   "outputs": [],
   "source": [
    "#q4\n",
    "#Suppose GRE Verbal scores are normally distributed with a mean of 456 and a standard deviation of 123.  A university plans to offer tutoring jobs to students whose scores are in the top 14%.  What is the minimum score required for the job offer?  Round your answer to the nearest whole number, if necessary"
   ]
  },
  {
   "cell_type": "code",
   "execution_count": 32,
   "id": "46f5e45c",
   "metadata": {},
   "outputs": [
    {
     "data": {
      "text/plain": [
       "323.1207210797604"
      ]
     },
     "execution_count": 32,
     "metadata": {},
     "output_type": "execute_result"
    }
   ],
   "source": [
    "round(norm.ppf(0.14, 456, 123))"
   ]
  },
  {
   "cell_type": "code",
   "execution_count": null,
   "id": "556712c4",
   "metadata": {},
   "outputs": [],
   "source": [
    "#q5\n",
    "#The lengths of nails produced in a factory are normally distributed with a mean of 6.13 centimeters and a standard deviation of 0.06 centimeters.  Find the two lengths that separate the top 7% and the bottom 7%.  These lengths could serve as limits used to identify which nails should be rejected.  Round your answer to the nearest hundredth, if necessary."
   ]
  },
  {
   "cell_type": "code",
   "execution_count": 10,
   "id": "8333f27f",
   "metadata": {},
   "outputs": [
    {
     "name": "stdout",
     "output_type": "stream",
     "text": [
      "6.0415 \n",
      " 6.2185\n"
     ]
    }
   ],
   "source": [
    "print(round(norm.ppf(0.07, 6.13, 0.06), 4), \"\\n\", round(norm.ppf(.93,6.13,0.06), 4))"
   ]
  },
  {
   "cell_type": "code",
   "execution_count": null,
   "id": "4a29a094",
   "metadata": {},
   "outputs": [],
   "source": [
    "#q6 An English professor assigns letter grades on a test according to the following scheme. A: Top 13% of scores B: Scores below the top 13% and above the bottom 55% C: Scores below the top 45% and above the bottom 20% D: Scores below the top 80% and above the bottom 9% F: Bottom 9% of scores Scores on the test are normally distributed with a mean of 78.8 and a standard deviation of 9.8. Find the numerical limits for a C grade. Round your answers to the nearest whole number, if necessary."
   ]
  },
  {
   "cell_type": "code",
   "execution_count": 34,
   "id": "8ba32c11",
   "metadata": {},
   "outputs": [
    {
     "name": "stdout",
     "output_type": "stream",
     "text": [
      "70 \n",
      " 80\n"
     ]
    }
   ],
   "source": [
    "print(round(norm.ppf(0.20, 78.18, 9.8)), \"\\n\", round(norm.ppf(.55,78.8,9.8)))\n"
   ]
  },
  {
   "cell_type": "code",
   "execution_count": null,
   "id": "3c084c9f",
   "metadata": {},
   "outputs": [],
   "source": [
    "#q7 Suppose ACT Composite scores are normally distributed with a mean of 21.2 and a standard deviation of 5.4. A university plans to admit students whose scores are in the top 45%. What is the minimum score required for admission? Round your answer to the nearest tenth, if necessary."
   ]
  },
  {
   "cell_type": "code",
   "execution_count": 37,
   "id": "d60258d8",
   "metadata": {},
   "outputs": [
    {
     "name": "stdout",
     "output_type": "stream",
     "text": [
      "20.52\n"
     ]
    }
   ],
   "source": [
    "print(round(norm.ppf(0.45, 21.2, 5.4),2))"
   ]
  },
  {
   "cell_type": "code",
   "execution_count": null,
   "id": "08dce79e",
   "metadata": {},
   "outputs": [],
   "source": [
    "#q8 Consider the probability that less than 11 out of 151 students will not graduate on time. Assume the probability that a given student will not graduate on time is 9%. Approximate the probability using the normal distribution. (Round your answer to 4 decimal places.)"
   ]
  },
  {
   "cell_type": "code",
   "execution_count": 40,
   "id": "89bf21a7",
   "metadata": {},
   "outputs": [
    {
     "data": {
      "text/plain": [
       "0.192"
      ]
     },
     "execution_count": 40,
     "metadata": {},
     "output_type": "execute_result"
    }
   ],
   "source": [
    "round(b.cdf(10,151,0.09), 4)"
   ]
  },
  {
   "cell_type": "code",
   "execution_count": null,
   "id": "3b9f64ba",
   "metadata": {},
   "outputs": [],
   "source": [
    "#q9 "
   ]
  },
  {
   "cell_type": "code",
   "execution_count": 44,
   "id": "562c4e65",
   "metadata": {},
   "outputs": [
    {
     "data": {
      "text/plain": [
       "0.5774"
      ]
     },
     "execution_count": 44,
     "metadata": {},
     "output_type": "execute_result"
    }
   ],
   "source": [
    "sd = 7/np.sqrt(147)\n",
    "round(sd, 4)"
   ]
  },
  {
   "cell_type": "code",
   "execution_count": 56,
   "id": "82d0a508",
   "metadata": {},
   "outputs": [
    {
     "data": {
      "text/plain": [
       "0.07529105992957552"
      ]
     },
     "execution_count": 56,
     "metadata": {},
     "output_type": "execute_result"
    }
   ],
   "source": [
    "1-norm.cdf(48.83,  48,  0.5774)\n",
    "#the answer should be 0.075"
   ]
  },
  {
   "cell_type": "code",
   "execution_count": 52,
   "id": "922c118a",
   "metadata": {},
   "outputs": [],
   "source": [
    "#q10"
   ]
  },
  {
   "cell_type": "code",
   "execution_count": 54,
   "id": "97b8a8e9",
   "metadata": {},
   "outputs": [
    {
     "data": {
      "text/plain": [
       "1.212678125181665"
      ]
     },
     "execution_count": 54,
     "metadata": {},
     "output_type": "execute_result"
    }
   ],
   "source": [
    "sd = 10/np.sqrt(68)\n",
    "sd"
   ]
  },
  {
   "cell_type": "code",
   "execution_count": 57,
   "id": "0877155b",
   "metadata": {},
   "outputs": [
    {
     "data": {
      "text/plain": [
       "0.01805398115892065"
      ]
     },
     "execution_count": 57,
     "metadata": {},
     "output_type": "execute_result"
    }
   ],
   "source": [
    "1-norm.cdf(93.54, 91, 1.212)"
   ]
  },
  {
   "cell_type": "code",
   "execution_count": 58,
   "id": "73a5cef8",
   "metadata": {},
   "outputs": [],
   "source": [
    "#q11"
   ]
  },
  {
   "cell_type": "code",
   "execution_count": 74,
   "id": "fef13459",
   "metadata": {},
   "outputs": [
    {
     "name": "stdout",
     "output_type": "stream",
     "text": [
      "0.9947\n"
     ]
    }
   ],
   "source": [
    "print(round((b.cdf(0.10*540, 540, 0.07)-b.cdf(.04*540, 540, 0.07)),4))"
   ]
  },
  {
   "cell_type": "code",
   "execution_count": 75,
   "id": "a1c172a9",
   "metadata": {},
   "outputs": [],
   "source": [
    "#q12"
   ]
  },
  {
   "cell_type": "code",
   "execution_count": 76,
   "id": "b9c6f31a",
   "metadata": {},
   "outputs": [
    {
     "name": "stdout",
     "output_type": "stream",
     "text": [
      "0.98\n"
     ]
    }
   ],
   "source": [
    "print(round((b.cdf(0.27*602, 602, 0.23)-b.cdf(.19*602, 602, 0.23)),4))"
   ]
  },
  {
   "cell_type": "code",
   "execution_count": null,
   "id": "f446f502",
   "metadata": {},
   "outputs": [],
   "source": [
    "#q13"
   ]
  },
  {
   "cell_type": "code",
   "execution_count": 79,
   "id": "985a8889",
   "metadata": {},
   "outputs": [
    {
     "name": "stdout",
     "output_type": "stream",
     "text": [
      "3.8 \n",
      " 4.0\n"
     ]
    }
   ],
   "source": [
    "print(round(norm.ppf(.1, 3.9, .8/np.sqrt(208)), 1), \"\\n\", round(norm.ppf(.9, 3.9, .8/np.sqrt(208)), 1))"
   ]
  },
  {
   "cell_type": "code",
   "execution_count": 80,
   "id": "dda8fe51",
   "metadata": {},
   "outputs": [],
   "source": [
    "#q14"
   ]
  },
  {
   "cell_type": "code",
   "execution_count": 84,
   "id": "23375821",
   "metadata": {},
   "outputs": [
    {
     "name": "stdout",
     "output_type": "stream",
     "text": [
      "16.3 \n",
      " 16.9\n"
     ]
    }
   ],
   "source": [
    "print(round(norm.ppf(.01, 16.6, 11/np.sqrt(7472)), 1), \"\\n\", round(norm.ppf(.99, 16.6, 11/np.sqrt(7472)), 1))"
   ]
  },
  {
   "cell_type": "code",
   "execution_count": 85,
   "id": "5e771ba8",
   "metadata": {},
   "outputs": [],
   "source": [
    "#q15"
   ]
  },
  {
   "cell_type": "code",
   "execution_count": 117,
   "id": "89c3193e",
   "metadata": {},
   "outputs": [
    {
     "name": "stdout",
     "output_type": "stream",
     "text": [
      "-1.7\n"
     ]
    }
   ],
   "source": [
    "print(round(t.ppf(0.05, 26) , 1))"
   ]
  },
  {
   "cell_type": "code",
   "execution_count": 87,
   "id": "ea3b9a06",
   "metadata": {},
   "outputs": [],
   "source": [
    "#q16"
   ]
  },
  {
   "cell_type": "code",
   "execution_count": 108,
   "id": "a424c8d3",
   "metadata": {},
   "outputs": [],
   "source": [
    "data = [383.6, 347.1, 371.9, 347.6, 325.8, 337]"
   ]
  },
  {
   "cell_type": "code",
   "execution_count": 109,
   "id": "626d9137",
   "metadata": {
    "scrolled": true
   },
   "outputs": [
    {
     "name": "stdout",
     "output_type": "stream",
     "text": [
      "352.17\n"
     ]
    }
   ],
   "source": [
    "#step 1\n",
    "mean = round(np.mean(data),2)\n",
    "print(mean)"
   ]
  },
  {
   "cell_type": "code",
   "execution_count": 111,
   "id": "d257b878",
   "metadata": {},
   "outputs": [
    {
     "name": "stdout",
     "output_type": "stream",
     "text": [
      "19.79\n"
     ]
    }
   ],
   "source": [
    "#step 2\n",
    "sd = round(np.std(data),2)\n",
    "print(sd)"
   ]
  },
  {
   "cell_type": "code",
   "execution_count": 125,
   "id": "8f9ac85a",
   "metadata": {},
   "outputs": [
    {
     "data": {
      "text/plain": [
       "368.45"
      ]
     },
     "execution_count": 125,
     "metadata": {},
     "output_type": "execute_result"
    }
   ],
   "source": [
    "#step 3\n",
    "t = round(t.ppf(0.05, 5) , 3)\n",
    "upper = round(mean - (sd/np.sqrt(6)) * t, 2)\n",
    "upper"
   ]
  },
  {
   "cell_type": "code",
   "execution_count": 126,
   "id": "25476bb0",
   "metadata": {},
   "outputs": [
    {
     "data": {
      "text/plain": [
       "335.89"
      ]
     },
     "execution_count": 126,
     "metadata": {},
     "output_type": "execute_result"
    }
   ],
   "source": [
    "#step 4\n",
    "lower = round(mean + (sd/np.sqrt(6)) * t, 2)\n",
    "lower"
   ]
  },
  {
   "cell_type": "code",
   "execution_count": 127,
   "id": "d8b0fbdb",
   "metadata": {},
   "outputs": [],
   "source": [
    "#q17"
   ]
  },
  {
   "cell_type": "code",
   "execution_count": 130,
   "id": "c105aaeb",
   "metadata": {},
   "outputs": [
    {
     "name": "stdout",
     "output_type": "stream",
     "text": [
      "15.7 \n",
      " 16.3\n"
     ]
    }
   ],
   "source": [
    "print(round(norm.ppf(.1, 16, .8/np.sqrt(16)), 1), \"\\n\", round(norm.ppf(.9, 16, .8/np.sqrt(16)), 1))"
   ]
  },
  {
   "cell_type": "code",
   "execution_count": null,
   "id": "10d1bb2f",
   "metadata": {},
   "outputs": [],
   "source": [
    "#q18"
   ]
  },
  {
   "cell_type": "code",
   "execution_count": 140,
   "id": "b0520187",
   "metadata": {},
   "outputs": [
    {
     "data": {
      "text/plain": [
       "1.6448536269514729"
      ]
     },
     "execution_count": 140,
     "metadata": {},
     "output_type": "execute_result"
    }
   ],
   "source": [
    "z = np.abs(norm.ppf(0.05, 0, 1))\n",
    "z"
   ]
  },
  {
   "cell_type": "code",
   "execution_count": 145,
   "id": "9f9f29f9",
   "metadata": {},
   "outputs": [
    {
     "data": {
      "text/plain": [
       "578.0"
      ]
     },
     "execution_count": 145,
     "metadata": {},
     "output_type": "execute_result"
    }
   ],
   "source": [
    "np.ceil((np.power(z, 2) * np.power(1.9, 2)) / np.power(0.13,2))"
   ]
  },
  {
   "cell_type": "code",
   "execution_count": null,
   "id": "34b9b238",
   "metadata": {},
   "outputs": [],
   "source": [
    "#q19"
   ]
  },
  {
   "cell_type": "code",
   "execution_count": 146,
   "id": "88775842",
   "metadata": {},
   "outputs": [
    {
     "data": {
      "text/plain": [
       "7879.0"
      ]
     },
     "execution_count": 146,
     "metadata": {},
     "output_type": "execute_result"
    }
   ],
   "source": [
    "z = np.abs(norm.ppf(0.025, 12.6, np.sqrt(3.61)))\n",
    "np.ceil((np.power(z, 2) * 3.61) / np.power(0.19,2))"
   ]
  },
  {
   "cell_type": "code",
   "execution_count": 147,
   "id": "460889b3",
   "metadata": {},
   "outputs": [],
   "source": [
    "#q20"
   ]
  },
  {
   "cell_type": "code",
   "execution_count": 148,
   "id": "2bd1b1f9",
   "metadata": {},
   "outputs": [
    {
     "data": {
      "text/plain": [
       "0.1699377692675922"
      ]
     },
     "execution_count": 148,
     "metadata": {},
     "output_type": "execute_result"
    }
   ],
   "source": [
    "p = 1 - (1734/2089)\n",
    "p"
   ]
  },
  {
   "cell_type": "code",
   "execution_count": 149,
   "id": "d5afb011",
   "metadata": {},
   "outputs": [
    {
     "data": {
      "text/plain": [
       "2.3263478740408408"
      ]
     },
     "execution_count": 149,
     "metadata": {},
     "output_type": "execute_result"
    }
   ],
   "source": [
    "z = np.abs(norm.ppf(0.01,  0,  1))\n",
    "z"
   ]
  },
  {
   "cell_type": "code",
   "execution_count": 151,
   "id": "0bc9a4a5",
   "metadata": {},
   "outputs": [
    {
     "data": {
      "text/plain": [
       "0.151"
      ]
     },
     "execution_count": 151,
     "metadata": {},
     "output_type": "execute_result"
    }
   ],
   "source": [
    "lower = round(p - (z * np.sqrt((p * (1-p)) / 2089)), 3)\n",
    "lower"
   ]
  },
  {
   "cell_type": "code",
   "execution_count": 152,
   "id": "c2a9150f",
   "metadata": {},
   "outputs": [
    {
     "data": {
      "text/plain": [
       "0.189"
      ]
     },
     "execution_count": 152,
     "metadata": {},
     "output_type": "execute_result"
    }
   ],
   "source": [
    "upper = round(p + (z * np.sqrt((p * (1-p)) / 2089)), 3)\n",
    "upper"
   ]
  },
  {
   "cell_type": "code",
   "execution_count": 153,
   "id": "094858c0",
   "metadata": {},
   "outputs": [],
   "source": [
    "#q21"
   ]
  },
  {
   "cell_type": "code",
   "execution_count": 154,
   "id": "d368cc7a",
   "metadata": {},
   "outputs": [
    {
     "data": {
      "text/plain": [
       "0.3291139240506329"
      ]
     },
     "execution_count": 154,
     "metadata": {},
     "output_type": "execute_result"
    }
   ],
   "source": [
    "p = 156 / 474\n",
    "p"
   ]
  },
  {
   "cell_type": "code",
   "execution_count": 155,
   "id": "d8040f0e",
   "metadata": {},
   "outputs": [
    {
     "data": {
      "text/plain": [
       "1.9599639845400545"
      ]
     },
     "execution_count": 155,
     "metadata": {},
     "output_type": "execute_result"
    }
   ],
   "source": [
    "z = np.abs(norm.ppf(0.025,  0,  1))\n",
    "z"
   ]
  },
  {
   "cell_type": "code",
   "execution_count": 156,
   "id": "8198db62",
   "metadata": {},
   "outputs": [
    {
     "data": {
      "text/plain": [
       "0.151"
      ]
     },
     "execution_count": 156,
     "metadata": {},
     "output_type": "execute_result"
    }
   ],
   "source": [
    "lower <- round(p - (z * np.sqrt((p * (1-p)) / 474)), 3)\n",
    "lower"
   ]
  },
  {
   "cell_type": "code",
   "execution_count": 157,
   "id": "2ffb390a",
   "metadata": {},
   "outputs": [
    {
     "data": {
      "text/plain": [
       "0.189"
      ]
     },
     "execution_count": 157,
     "metadata": {},
     "output_type": "execute_result"
    }
   ],
   "source": [
    "upper <- round(p + (z * np.sqrt((p * (1-p)) / 474)), 3)\n",
    "upper\n"
   ]
  }
 ],
 "metadata": {
  "kernelspec": {
   "display_name": "Python 3 (ipykernel)",
   "language": "python",
   "name": "python3"
  },
  "language_info": {
   "codemirror_mode": {
    "name": "ipython",
    "version": 3
   },
   "file_extension": ".py",
   "mimetype": "text/x-python",
   "name": "python",
   "nbconvert_exporter": "python",
   "pygments_lexer": "ipython3",
   "version": "3.9.12"
  }
 },
 "nbformat": 4,
 "nbformat_minor": 5
}
